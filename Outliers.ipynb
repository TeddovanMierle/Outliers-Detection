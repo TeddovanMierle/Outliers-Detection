{
  "nbformat": 4,
  "nbformat_minor": 0,
  "metadata": {
    "colab": {
      "name": "Outliers.ipynb",
      "provenance": [],
      "collapsed_sections": []
    },
    "kernelspec": {
      "name": "python3",
      "display_name": "Python 3"
    }
  },
  "cells": [
    {
      "cell_type": "markdown",
      "metadata": {
        "id": "52zjPXL0IEY8"
      },
      "source": [
        "# Outlier Detection\n",
        "\n",
        "Outliers are datapoints that differ significantly from other datapoints and is unusual. It doesn't follow the pattern of that all the other.\n",
        "\n",
        "basically, we call a datapoint an outlier because the probability of a datapoint having the value that the outlier has is very low\n",
        "\n",
        "\n",
        "<img src=\"https://lh3.googleusercontent.com/proxy/pWqJFUfDQnJbFs9yodsQM6cyySn3Bm7P4y3TNlqOaYgFY5gsf--LjAqVLQ-a-ie01osWNM3qovBBUloo-oRKGBHWqwcXdiuzT2l_ILZpRRX-4sCSHE9I\" />\n",
        "\n",
        "\n",
        "## Why do we need to remove outliers or detect them ?\n",
        "\n",
        "<b>case 1 : </b><br>\n",
        "Consider a situation where a big manufacturing company is manufacturing an airplane. An airplane has different parts and we don't want any parts to behave in an unusual way. these unusual behaviours might be because of various reasons. we want to detect these parts before it is fixed in an airplane else the lives of the passengers might be in danger.\n",
        "\n",
        "<b> case 2: </b><br>\n",
        "\n",
        "<img src=\"https://cdn-0.r-statistics.co/screenshots/outliers_effect.png\" />\n",
        "\n",
        "As you can see in the Above Image, how outliers can affect the equation of the line of best fit. So, before performing it is important to remove outliers in order to get the most accurate predictions "
      ]
    },
    {
      "cell_type": "code",
      "metadata": {
        "id": "98ksIvS7GXC5"
      },
      "source": [
        "#importing the libraries\n",
        "import pandas as pd\n",
        "import numpy as np\n",
        "import random\n",
        "import matplotlib.pyplot as plt"
      ],
      "execution_count": null,
      "outputs": []
    },
    {
      "cell_type": "code",
      "metadata": {
        "id": "8kky8rwGGc0A"
      },
      "source": [
        "#define x1 and x2\n",
        "x1 = np.arange(1,50,1)\n",
        "x2 = np.square(x1) + np.random.randint(-200,200)\n"
      ],
      "execution_count": null,
      "outputs": []
    },
    {
      "cell_type": "code",
      "metadata": {
        "id": "2NCd77dmGxB9",
        "outputId": "d0f9d596-77f0-4973-8272-c5656a73d5f7",
        "colab": {
          "base_uri": "https://localhost:8080/",
          "height": 282
        }
      },
      "source": [
        "#plotting the data\n",
        "plt.scatter(x1,x2)"
      ],
      "execution_count": null,
      "outputs": [
        {
          "output_type": "execute_result",
          "data": {
            "text/plain": [
              "<matplotlib.collections.PathCollection at 0x7fdc6951bc88>"
            ]
          },
          "metadata": {
            "tags": []
          },
          "execution_count": 3
        },
        {
          "output_type": "display_data",
          "data": {
            "image/png": "[encoded data removed]",
            "text/plain": [
              "<Figure size 432x288 with 1 Axes>"
            ]
          },
          "metadata": {
            "tags": [],
            "needs_background": "light"
          }
        }
      ]
    },
    {
      "cell_type": "markdown",
      "metadata": {
        "id": "G1fGhy7d3ok3"
      },
      "source": [
        "Adding an outlier manually to the data"
      ]
    },
    {
      "cell_type": "code",
      "metadata": {
        "id": "i55PdtStHBVo",
        "outputId": "a231fa5c-42e6-4fc7-91a0-0a24f0508628",
        "colab": {
          "base_uri": "https://localhost:8080/",
          "height": 282
        }
      },
      "source": [
        "#adding outliers\n",
        "x1 = np.append(x1,17)\n",
        "x2 = np.append(x2,1300)\n",
        "data = np.stack((x1,x2),axis=1)\n",
        "plt.scatter(x1,x2)"
      ],
      "execution_count": null,
      "outputs": [
        {
          "output_type": "execute_result",
          "data": {
            "text/plain": [
              "<matplotlib.collections.PathCollection at 0x7fdc68ff8128>"
            ]
          },
          "metadata": {
            "tags": []
          },
          "execution_count": 4
        },
        {
          "output_type": "display_data",
          "data": {
            "image/png": "[encoded data removed]",
            "text/plain": [
              "<Figure size 432x288 with 1 Axes>"
            ]
          },
          "metadata": {
            "tags": [],
            "needs_background": "light"
          }
        }
      ]
    },
    {
      "cell_type": "markdown",
      "metadata": {
        "id": "OKpiAwtI32rY"
      },
      "source": [
        "# Trying 2 Methods to Detect Anomalies in the Dataset\n",
        "\n",
        "In this notebook , I have tried Interquartile range method and also Multivariate Gaussian Distribution to check which method performs better.\n",
        "\n"
      ]
    },
    {
      "cell_type": "markdown",
      "metadata": {
        "id": "s1Ow_g-SIHxp"
      },
      "source": [
        "# Interquartile range method\n",
        "\n",
        "<img src=\"https://naysan.ca/wp-content/uploads/2020/06/box_plot_ref_needed.png\" />\n",
        "\n",
        "In this method , we find a certain range and if the outlier lies outside this range, We classify them as outliers\n"
      ]
    },
    {
      "cell_type": "code",
      "metadata": {
        "id": "v2tJByZcIXKu",
        "outputId": "1fbaa5f7-0dd8-4954-b58b-fc3ba442fbc2",
        "colab": {
          "base_uri": "https://localhost:8080/",
          "height": 34
        }
      },
      "source": [
        "#sorting the array\n",
        "x1_sorted = np.sort(x1)\n",
        "\n",
        "#first half and second half\n",
        "first_half = x1_sorted[x1_sorted < np.median(x1_sorted)]\n",
        "second_half = x1_sorted[x1_sorted > np.median(x1_sorted)]\n",
        "\n",
        "#q1 and q3\n",
        "q1 = first_half[int((first_half.shape[0]+1)/2)]\n",
        "q3 = second_half[int((second_half.shape[0]+1)/2)]\n",
        "iqr = q3 - q1 #calculate iqr\n",
        "\n",
        "#min and max\n",
        "minimum_val1 = q1 - 1.5*iqr\n",
        "maximum_val1 = q3 + 1.5*iqr\n",
        "\n",
        "print(\"Range : \",minimum_val1,\"-\",maximum_val1)"
      ],
      "execution_count": null,
      "outputs": [
        {
          "output_type": "stream",
          "text": [
            "Range :  -22.0 - 74.0\n"
          ],
          "name": "stdout"
        }
      ]
    },
    {
      "cell_type": "code",
      "metadata": {
        "id": "qv9PE4u2KZ_q",
        "outputId": "97a9f617-8dc2-46e5-a1da-79e0a247c20e",
        "colab": {
          "base_uri": "https://localhost:8080/",
          "height": 34
        }
      },
      "source": [
        "#sorting the array\n",
        "x2_sorted = np.sort(x2)\n",
        "\n",
        "#first half and second half\n",
        "first_half = x2_sorted[x2_sorted < np.median(x2_sorted)]\n",
        "second_half = x2_sorted[x2_sorted > np.median(x2_sorted)]\n",
        "\n",
        "#q1 and q3\n",
        "q1 = first_half[int((first_half.shape[0]+1)/2)]\n",
        "q3 = second_half[int((second_half.shape[0]+1)/2)]\n",
        "iqr = q3 - q1 #calculate iqr\n",
        "\n",
        "#min and max\n",
        "minimum_val2 = q1 - 1.5*iqr\n",
        "maximum_val2 = q3 + 1.5*iqr\n",
        "\n",
        "print(\"Range : \",minimum_val2,\"-\",maximum_val2)"
      ],
      "execution_count": null,
      "outputs": [
        {
          "output_type": "stream",
          "text": [
            "Range :  -1912.5 - 3227.5\n"
          ],
          "name": "stdout"
        }
      ]
    },
    {
      "cell_type": "markdown",
      "metadata": {
        "id": "31pdhUmjL3Mb"
      },
      "source": [
        "# Will this model Detect the outlier ?"
      ]
    },
    {
      "cell_type": "code",
      "metadata": {
        "id": "iFkvZsqML7gW"
      },
      "source": [
        "def detect_x(x_data,min,max):\n",
        "  outlier_x = []\n",
        "  for i in x_data:\n",
        "    if i < min or i > max:\n",
        "      outlier_x.append(i)\n",
        "  if len(outlier_x) > 0:\n",
        "    print(outlier_x)\n",
        "  else:\n",
        "    print(\"No outliers Detected\")"
      ],
      "execution_count": null,
      "outputs": []
    },
    {
      "cell_type": "code",
      "metadata": {
        "id": "wjo3LOvjQhTq",
        "outputId": "f1c90a85-f207-4bbc-bfb0-2f97721aba6f",
        "colab": {
          "base_uri": "https://localhost:8080/",
          "height": 51
        }
      },
      "source": [
        "detect_x(x1,minimum_val1,maximum_val1)\n",
        "detect_x(x2,minimum_val2,maximum_val2)"
      ],
      "execution_count": null,
      "outputs": [
        {
          "output_type": "stream",
          "text": [
            "No outliers Detected\n",
            "No outliers Detected\n"
          ],
          "name": "stdout"
        }
      ]
    },
    {
      "cell_type": "markdown",
      "metadata": {
        "id": "6XtMXCPQP1sf"
      },
      "source": [
        "This Method Failed to detect Outliers in a when multiple variables are involved"
      ]
    },
    {
      "cell_type": "markdown",
      "metadata": {
        "id": "gDOdZqKfA0KQ"
      },
      "source": [
        "# Anomaly Detection using MultiVariate Normal(Gaussian) Distribution\n",
        "\n",
        "<img src=\"https://miro.medium.com/max/24000/1*IdGgdrY_n_9_YfkaCh-dag.png\" />\n",
        "\n",
        "In this method , we calculate the probability for a particular datapoint. If the probability of occurence of that point is lower than a particular threshold , we say that it is an outlier.\n",
        "This threshold value is chosen manually.\n"
      ]
    },
    {
      "cell_type": "code",
      "metadata": {
        "id": "r-j8-7iRA-xY"
      },
      "source": [
        "from scipy.stats import multivariate_normal"
      ],
      "execution_count": null,
      "outputs": []
    },
    {
      "cell_type": "code",
      "metadata": {
        "id": "gXqXHWRxBfTU",
        "outputId": "e728ebbb-f9e0-4fd9-a198-abd3dbe0b7d9",
        "colab": {
          "base_uri": "https://localhost:8080/",
          "height": 282
        }
      },
      "source": [
        "plt.scatter(data[:,0],data[:,1])"
      ],
      "execution_count": null,
      "outputs": [
        {
          "output_type": "execute_result",
          "data": {
            "text/plain": [
              "<matplotlib.collections.PathCollection at 0x7fdc5f7acda0>"
            ]
          },
          "metadata": {
            "tags": []
          },
          "execution_count": 10
        },
        {
          "output_type": "display_data",
          "data": {
            "image/png": "[encoded data removed]",
            "text/plain": [
              "<Figure size 432x288 with 1 Axes>"
            ]
          },
          "metadata": {
            "tags": [],
            "needs_background": "light"
          }
        }
      ]
    },
    {
      "cell_type": "code",
      "metadata": {
        "id": "E1yc79onJG5W"
      },
      "source": [
        "#calculate the covariance matrix\n",
        "data = np.stack((x1,x2),axis=0)\n",
        "covariance_matrix = np.cov(data)\n",
        "\n",
        "#calculating the mean\n",
        "mean_values = [np.mean(x1),np.mean(x2)]\n",
        "\n",
        "#multivariate_normal_distribution\n",
        "model = multivariate_normal(cov=covariance_matrix,mean=mean_values)\n",
        "data = np.stack((x1,x2),axis=1)\n",
        "\n",
        "#finding the outliers\n",
        "threshhold = 1.0e-07\n",
        "outlier = model.pdf(data).reshape(-1) < threshhold"
      ],
      "execution_count": null,
      "outputs": []
    },
    {
      "cell_type": "code",
      "metadata": {
        "id": "7qnqUIZsMlZ2",
        "outputId": "f6d43acf-37c8-45f1-ba5e-61925c5bf652",
        "colab": {
          "base_uri": "https://localhost:8080/",
          "height": 34
        }
      },
      "source": [
        "for boolean,i in enumerate(outlier):\n",
        "  if i == True:\n",
        "    print(data[boolean],\" is an Outlier\")"
      ],
      "execution_count": null,
      "outputs": [
        {
          "output_type": "stream",
          "text": [
            "[  17 1300]  is an Outlier\n"
          ],
          "name": "stdout"
        }
      ]
    },
    {
      "cell_type": "markdown",
      "metadata": {
        "id": "j2Rx_falPid5"
      },
      "source": [
        "# Multivariate Normal Distribution found the outliers succesfully\n",
        "\n",
        "The first method doesn't account for the relationship between 2 variables and hence, fails to detect the outliers when multiple variables are invloved.\n",
        "\n",
        "The second method uses the power of covariance matrix to account for the relationship between multiple variables and proves succesful in detecting these outliers"
      ]
    },
    {
      "cell_type": "markdown",
      "metadata": {
        "id": "S_A_qnIT_Pm0"
      },
      "source": [
        "# My Interpretaions\n",
        "\n",
        "\n",
        "1. The reason I compared these 2 methods was that most of the time the first method and another method called z-score method were used to remove outliers as preprocessing in regression or classification problems.\n",
        "\n",
        "2. As z-score method and interquartile range methods doesn't consider the relationship between multiple variables when detecting outliers, some outliers will be very hard to detect with these methods when multiple variables are involved\n",
        "\n",
        "3. wheras, Multivariate normal distribution uses covariance matrix to find how a variable changes with respect to other and hence is able to detec outliers\n",
        "\n",
        "4. z-score method and interquartile method can also detect outliers when multiple variables are involved but, the datapoint of the outlier must far away from the entire range of data in the dataset but it will not be able to detect outliers both the co-ordinates are not far away from the range of values of the co-ordinate of all the data in the dataset\n",
        "\n",
        "5. I might be wrong , but the reason why z-score and interquartile range methods are used in pre-processing is that because they are easier to implement and also they can remove outliers that exist far away from the entire range of dataset which would be more than enough for machine learning models to fit"
      ]
    }
  ]
}